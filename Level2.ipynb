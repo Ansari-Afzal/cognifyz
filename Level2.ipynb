{
 "cells": [
  {
   "cell_type": "markdown",
   "id": "c5ad0d96-5280-4a73-b375-c35b30eb5357",
   "metadata": {},
   "source": [
    "# Task 1 : Table Booking and Online Delivery"
   ]
  },
  {
   "cell_type": "code",
   "execution_count": 6,
   "id": "47630567-ed3b-4ab0-bd71-99c9392a8051",
   "metadata": {},
   "outputs": [
    {
     "name": "stdout",
     "output_type": "stream",
     "text": [
      "Percentage of restaurants offering table booking: 12.124384881164275\n",
      "Percentage of restaurants offering online delivery: 25.662234321013504\n",
      "Average rating of restaurants with table booking: 3.4419689119170984\n",
      "Average rating of restaurants without table booking: 2.559358989634219\n",
      "Percentage of restaurants with online delivery in price range 3: 29.19034090909091\n",
      "Percentage of restaurants with online delivery in price range 4: 9.044368600682594\n",
      "Percentage of restaurants with online delivery in price range 2: 41.310632830067455\n",
      "Percentage of restaurants with online delivery in price range 1: 15.774077407740775\n"
     ]
    }
   ],
   "source": [
    "import pandas as pd\n",
    "df = pd.read_csv('Dataset 1.csv')\n",
    "\n",
    "df['Has Table booking'] = df['Has Table booking'].map({'Yes': True, 'No': False})\n",
    "df['Has Online delivery'] = df['Has Online delivery'].map({'Yes': True, 'No': False})\n",
    "\n",
    "table_booking_percentage = (df['Has Table booking'].sum() / len(df)) * 100\n",
    "online_delivery_percentage = (df['Has Online delivery'].sum() / len(df)) * 100\n",
    "print(\"Percentage of restaurants offering table booking:\", table_booking_percentage)\n",
    "print(\"Percentage of restaurants offering online delivery:\", online_delivery_percentage)\n",
    "\n",
    "average_rating_with_table_booking = df[df['Has Table booking']]['Aggregate rating'].mean()\n",
    "average_rating_without_table_booking = df[~df['Has Table booking']]['Aggregate rating'].mean()\n",
    "print(\"Average rating of restaurants with table booking:\", average_rating_with_table_booking)\n",
    "print(\"Average rating of restaurants without table booking:\", average_rating_without_table_booking)\n",
    "\n",
    "price_ranges = df['Price range'].unique()\n",
    "for price_range in price_ranges:\n",
    "    online_delivery_percentage = (df[(df['Price range'] == price_range) & df['Has Online delivery']]['Has Online delivery'].sum() / len(df[df['Price range'] == price_range])) * 100\n",
    "    print(\"Percentage of restaurants with online delivery in price range {}: {}\".format(price_range, online_delivery_percentage))\n"
   ]
  },
  {
   "cell_type": "markdown",
   "id": "f1509ff2-15a1-47c0-91cb-fd4c70e34e07",
   "metadata": {},
   "source": [
    "# Task 2 : Price Range Analysis"
   ]
  },
  {
   "cell_type": "code",
   "execution_count": 7,
   "id": "f58d9d69-cd86-4e3b-b48f-48f757ec4069",
   "metadata": {},
   "outputs": [
    {
     "name": "stdout",
     "output_type": "stream",
     "text": [
      "Most common price range among all restaurants: 1\n",
      "Average rating for each price range:\n",
      "Price range\n",
      "1    1.999887\n",
      "2    2.941054\n",
      "3    3.683381\n",
      "4    3.817918\n",
      "Name: Aggregate rating, dtype: float64\n",
      "Color representing the highest average rating among different price ranges: 4\n"
     ]
    }
   ],
   "source": [
    "import pandas as pd\n",
    "\n",
    "df = pd.read_csv('Dataset 1.csv')\n",
    "\n",
    "most_common_price_range = df['Price range'].mode()[0]\n",
    "print(\"Most common price range among all restaurants:\", most_common_price_range)\n",
    "\n",
    "average_ratings_by_price_range = df.groupby('Price range')['Aggregate rating'].mean()\n",
    "print(\"Average rating for each price range:\")\n",
    "print(average_ratings_by_price_range)\n",
    "\n",
    "highest_average_rating_color = average_ratings_by_price_range.idxmax()\n",
    "print(\"Color representing the highest average rating among different price ranges:\", highest_average_rating_color)\n"
   ]
  },
  {
   "cell_type": "markdown",
   "id": "ca15f3b8-9527-4048-a1eb-6b20b6307d1f",
   "metadata": {},
   "source": [
    "# Task 3 : Feature Engineering"
   ]
  },
  {
   "cell_type": "code",
   "execution_count": 8,
   "id": "f57a30b0-cd01-47a3-8172-875bfef4397a",
   "metadata": {},
   "outputs": [
    {
     "name": "stdout",
     "output_type": "stream",
     "text": [
      "   Restaurant ID         Restaurant Name  Country Code              City  \\\n",
      "0        6317637        Le Petit Souffle           162       Makati City   \n",
      "1        6304287        Izakaya Kikufuji           162       Makati City   \n",
      "2        6300002  Heat - Edsa Shangri-La           162  Mandaluyong City   \n",
      "3        6318506                    Ooma           162  Mandaluyong City   \n",
      "4        6314302             Sambo Kojin           162  Mandaluyong City   \n",
      "\n",
      "                                             Address  \\\n",
      "0  Third Floor, Century City Mall, Kalayaan Avenu...   \n",
      "1  Little Tokyo, 2277 Chino Roces Avenue, Legaspi...   \n",
      "2  Edsa Shangri-La, 1 Garden Way, Ortigas, Mandal...   \n",
      "3  Third Floor, Mega Fashion Hall, SM Megamall, O...   \n",
      "4  Third Floor, Mega Atrium, SM Megamall, Ortigas...   \n",
      "\n",
      "                                     Locality  \\\n",
      "0   Century City Mall, Poblacion, Makati City   \n",
      "1  Little Tokyo, Legaspi Village, Makati City   \n",
      "2  Edsa Shangri-La, Ortigas, Mandaluyong City   \n",
      "3      SM Megamall, Ortigas, Mandaluyong City   \n",
      "4      SM Megamall, Ortigas, Mandaluyong City   \n",
      "\n",
      "                                    Locality Verbose   Longitude   Latitude  \\\n",
      "0  Century City Mall, Poblacion, Makati City, Mak...  121.027535  14.565443   \n",
      "1  Little Tokyo, Legaspi Village, Makati City, Ma...  121.014101  14.553708   \n",
      "2  Edsa Shangri-La, Ortigas, Mandaluyong City, Ma...  121.056831  14.581404   \n",
      "3  SM Megamall, Ortigas, Mandaluyong City, Mandal...  121.056475  14.585318   \n",
      "4  SM Megamall, Ortigas, Mandaluyong City, Mandal...  121.057508  14.584450   \n",
      "\n",
      "                           Cuisines  ...  Switch to order menu Price range  \\\n",
      "0        French, Japanese, Desserts  ...                    No           3   \n",
      "1                          Japanese  ...                    No           3   \n",
      "2  Seafood, Asian, Filipino, Indian  ...                    No           4   \n",
      "3                   Japanese, Sushi  ...                    No           4   \n",
      "4                  Japanese, Korean  ...                    No           4   \n",
      "\n",
      "  Aggregate rating Rating color Rating text Votes  Restaurant Name Length  \\\n",
      "0              4.8   Dark Green   Excellent   314                      16   \n",
      "1              4.5   Dark Green   Excellent   591                      16   \n",
      "2              4.4        Green   Very Good   270                      22   \n",
      "3              4.9   Dark Green   Excellent   365                       4   \n",
      "4              4.8   Dark Green   Excellent   229                      11   \n",
      "\n",
      "   Address Length Has Table Booking Encoded Has Online Delivery Encoded  \n",
      "0              71                         1                           0  \n",
      "1              67                         1                           0  \n",
      "2              56                         1                           0  \n",
      "3              70                         0                           0  \n",
      "4              64                         1                           0  \n",
      "\n",
      "[5 rows x 25 columns]\n"
     ]
    }
   ],
   "source": [
    "import pandas as pd\n",
    "\n",
    "df = pd.read_csv('Dataset 1.csv')\n",
    "\n",
    "df['Restaurant Name Length'] = df['Restaurant Name'].apply(len)\n",
    "df['Address Length'] = df['Address'].apply(len)\n",
    "\n",
    "df['Has Table Booking Encoded'] = df['Has Table booking'].map({'Yes': 1, 'No': 0})\n",
    "df['Has Online Delivery Encoded'] = df['Has Online delivery'].map({'Yes': 1, 'No': 0})\n",
    "\n",
    "print(df.head())\n"
   ]
  },
  {
   "cell_type": "code",
   "execution_count": null,
   "id": "c0b106b0",
   "metadata": {},
   "outputs": [],
   "source": []
  }
 ],
 "metadata": {
  "kernelspec": {
   "display_name": "Python 3 (ipykernel)",
   "language": "python",
   "name": "python3"
  },
  "language_info": {
   "codemirror_mode": {
    "name": "ipython",
    "version": 3
   },
   "file_extension": ".py",
   "mimetype": "text/x-python",
   "name": "python",
   "nbconvert_exporter": "python",
   "pygments_lexer": "ipython3",
   "version": "3.11.5"
  }
 },
 "nbformat": 4,
 "nbformat_minor": 5
}
